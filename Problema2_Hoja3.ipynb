{
  "nbformat": 4,
  "nbformat_minor": 0,
  "metadata": {
    "colab": {
      "name": "Problema2_Hoja3.ipynb",
      "provenance": [],
      "collapsed_sections": []
    },
    "kernelspec": {
      "name": "python3",
      "display_name": "Python 3"
    }
  },
  "cells": [
    {
      "cell_type": "markdown",
      "metadata": {
        "id": "EVBQfVxGk_7n",
        "colab_type": "text"
      },
      "source": [
        "Universidad Galileo\n",
        "\n",
        "Text Mining and Image Recognition\n",
        "\n",
        "PAPD - Sección V\n",
        "\n",
        "Sergio José Barrios Martínez\n",
        "\n",
        "Carnet No. 19012765\n",
        "\n",
        "## Problema No. 2: \n",
        "En la carpeta encontrará adjuntos 21 documentos que tiene 100 fechas en la secuencia días-mes-año pero con distinto separador y distinto formato de mes, en algunos casos aparece un numero y en otros el nombre del mes en ingles, por ejemplo: Enero pueder aparecer como 1 o como Jan. Utilice Python y expresiones regulares para encontrar el día, mes y año promedio total del los 21 archivos, los resultados deben ser un double."
      ]
    },
    {
      "cell_type": "code",
      "metadata": {
        "id": "0DgQTLthk--U",
        "colab_type": "code",
        "colab": {}
      },
      "source": [
        "import re\n",
        "import numpy as np"
      ],
      "execution_count": 1,
      "outputs": []
    },
    {
      "cell_type": "code",
      "metadata": {
        "id": "NcFWzC-slKA9",
        "colab_type": "code",
        "colab": {
          "base_uri": "https://localhost:8080/",
          "height": 370
        },
        "outputId": "303a6c00-334e-4c34-9f97-6af53c703b8e"
      },
      "source": [
        "promedios = np.zeros([21,3])\n",
        "\n",
        "for i in range(21):\n",
        "    \n",
        "    path = \"drive/My Drive/Text Mining and Image Recognition/DatosHoja3/D\"+str(i+1)+\".txt\"\n",
        "    archivo = open(path,\"r\")\n",
        "    lista = archivo.readlines()\n",
        "    archivo.close()\n",
        "    \n",
        "    resultado = []\n",
        "    \n",
        "    for linea in lista:\n",
        "      \n",
        "        result = re.sub('Jan','01',linea)\n",
        "        result = re.sub('Feb','02',result)\n",
        "        result = re.sub('Mar','03',result)\n",
        "        result = re.sub('Apr','04',result)\n",
        "        result = re.sub('May','05',result)\n",
        "        result = re.sub('Jun','06',result)\n",
        "        result = re.sub('Jul','07',result)\n",
        "        result = re.sub('Aug','08',result)\n",
        "        result = re.sub('Sep','09',result)\n",
        "        result = re.sub('Oct','10',result)\n",
        "        result = re.sub('Nov','11',result)\n",
        "        result = re.sub('Dec','12',result)\n",
        "       \n",
        "        pattern = '[/|\\-|.|ï»¿|\\ufeff|\\n]'\n",
        "        resultado.append(re.split(pattern, result)[-4:-1])\n",
        "    \n",
        "    lista = np.array(resultado,dtype=np.float32)\n",
        "    days = np.expand_dims(lista[:,0],axis=1)\n",
        "    months = np.expand_dims(lista[:,1],axis=1)\n",
        "    years = np.expand_dims(lista[:,2],axis=1)\n",
        "    \n",
        "    days_average = np.mean(days)\n",
        "    months_average = np.mean(months)\n",
        "    years_average = np.mean(years)\n",
        "    promedios[i] = [days_average,months_average,years_average]\n",
        "\n",
        "promedios"
      ],
      "execution_count": 2,
      "outputs": [
        {
          "output_type": "execute_result",
          "data": {
            "text/plain": [
              "array([[  15.86400032,    6.43200016, 2016.6739502 ],\n",
              "       [  15.53899956,    6.19899988, 2016.66699219],\n",
              "       [  15.55900002,    6.72200012, 2016.62902832],\n",
              "       [  15.38399982,    6.49499989, 2016.64501953],\n",
              "       [  15.55099964,    6.69099998, 2016.56005859],\n",
              "       [  15.27099991,    6.52799988, 2016.69299316],\n",
              "       [  15.50699997,    6.36999989, 2016.7199707 ],\n",
              "       [  15.56700039,    6.41699982, 2016.64501953],\n",
              "       [  15.47900009,    6.49700022, 2016.69396973],\n",
              "       [  16.24699974,    6.45900011, 2016.73999023],\n",
              "       [  15.90999985,    6.454     , 2016.75305176],\n",
              "       [  15.52600002,    6.34899998, 2016.68896484],\n",
              "       [  15.46000004,    6.48899984, 2016.68200684],\n",
              "       [  15.31000042,    6.51499987, 2016.75097656],\n",
              "       [  15.8760004 ,    6.33900023, 2016.68103027],\n",
              "       [  16.05699921,    6.35200024, 2016.67797852],\n",
              "       [  15.66399956,    6.49900007, 2016.75805664],\n",
              "       [  15.70499992,    6.47700024, 2016.66699219],\n",
              "       [  15.48200035,    6.625     , 2016.69995117],\n",
              "       [  15.36800003,    6.36600018, 2016.73596191],\n",
              "       [  15.79399967,    6.52099991, 2016.66296387]])"
            ]
          },
          "metadata": {
            "tags": []
          },
          "execution_count": 2
        }
      ]
    },
    {
      "cell_type": "code",
      "metadata": {
        "id": "hHtjgHuBrwCU",
        "colab_type": "code",
        "colab": {
          "base_uri": "https://localhost:8080/",
          "height": 67
        },
        "outputId": "1631998f-7864-4d6e-a1aa-11cc72ff0ac4"
      },
      "source": [
        "print(\"El promedio de días es:\", np.mean(promedios[:,0]))\n",
        "print(\"El promedio de meses es:\", np.mean(promedios[:,1]))\n",
        "print(\"El promedio de años es:\", np.mean(promedios[:,2]))"
      ],
      "execution_count": 3,
      "outputs": [
        {
          "output_type": "stream",
          "text": [
            "El promedio de días es: 15.624761853899274\n",
            "El promedio de meses es: 6.466476213364374\n",
            "El promedio de años es: 2016.6869012741815\n"
          ],
          "name": "stdout"
        }
      ]
    }
  ]
}