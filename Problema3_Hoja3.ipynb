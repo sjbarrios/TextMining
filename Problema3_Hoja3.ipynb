{
  "nbformat": 4,
  "nbformat_minor": 0,
  "metadata": {
    "colab": {
      "name": "Problema3_Hoja3.ipynb",
      "provenance": [],
      "collapsed_sections": [],
      "toc_visible": true
    },
    "kernelspec": {
      "name": "python3",
      "display_name": "Python 3"
    }
  },
  "cells": [
    {
      "cell_type": "markdown",
      "metadata": {
        "id": "tytcb1vutIjw",
        "colab_type": "text"
      },
      "source": [
        "Universidad Galileo\n",
        "\n",
        "Text Mining and Image Recognition\n",
        "\n",
        "PAPD - Sección V\n",
        "\n",
        "Sergio José Barrios Martínez\n",
        "\n",
        "Carnet No. 19012765\n",
        "\n",
        "##Problema No. 3:\n",
        "\n",
        "Descargue el Dataset el cual contiene aproximadamente 800,000\n",
        "tweets de diversos temas.\n",
        "Usando CoLab y expresiones regulares. Determine los 3 usuarios más populares dentro del dataset. Luego arme un corpus el cual contenga los siguientes elementos por cada usuario seleccionado:\n",
        "- Content: Tweet.\n",
        "- Metadata: ID, Timestamp, Length (este valor hay que calcularlo).\n",
        "\n",
        "\n",
        "\n",
        "Posterior a tener sus 3 corpus creados, responda: ¿Razón por la que citan a ese usuario? Para esto es necesario que extraiga el contexto de cada tweet y verifique cuales son las palabras que mas rodean al nombre de usuario. Para extraer un contexto valido y debido a la naturaleza del tipo de datos que están disponibles en nuestro dataset le recomendamos seguir los siguientes pasos:\n",
        "1. Remover stopwords.\n",
        "2. Realizar stemming y lemmatización.\n",
        "3. Mostrar un wordcloud con el top 10 para cada usuario.\n"
      ]
    },
    {
      "cell_type": "code",
      "metadata": {
        "id": "DePVxL4zs4qw",
        "colab_type": "code",
        "colab": {}
      },
      "source": [
        "import re\n",
        "import numpy as np\n",
        "import csv\n",
        "import nltk\n",
        "import pandas as pd"
      ],
      "execution_count": 1,
      "outputs": []
    },
    {
      "cell_type": "markdown",
      "metadata": {
        "id": "r8RUpjP7_dBd",
        "colab_type": "text"
      },
      "source": [
        "Como primer paso, se extrae el texto de los tweets en una lista, y los datos completos relevantes en otra."
      ]
    },
    {
      "cell_type": "code",
      "metadata": {
        "id": "buQxfNeeuMvv",
        "colab_type": "code",
        "colab": {}
      },
      "source": [
        "tweets = []\n",
        "datos = []\n",
        "with open(\"drive/My Drive/Text Mining and Image Recognition/Tweets/tw_source.csv\", 'r',encoding = \"ISO-8859-1\") as file:\n",
        "    reader = csv.reader(file)\n",
        "    for row in reader:\n",
        "      tweets.append(row[-1])\n",
        "      datos.append(list(row[i] for i in [1, 2, 4, 5] ))"
      ],
      "execution_count": 2,
      "outputs": []
    },
    {
      "cell_type": "code",
      "metadata": {
        "id": "-Ksl052XPw58",
        "colab_type": "code",
        "colab": {
          "base_uri": "https://localhost:8080/",
          "height": 34
        },
        "outputId": "37d74746-dd61-4fc2-864e-7d9519c73e95"
      },
      "source": [
        "len(datos)"
      ],
      "execution_count": 3,
      "outputs": [
        {
          "output_type": "execute_result",
          "data": {
            "text/plain": [
              "1600000"
            ]
          },
          "metadata": {
            "tags": []
          },
          "execution_count": 3
        }
      ]
    },
    {
      "cell_type": "markdown",
      "metadata": {
        "id": "OHNYCuxWHe_p",
        "colab_type": "text"
      },
      "source": [
        "Posteriormente, se utiliza una expresión regular para encontrar las menciones a los usuarios"
      ]
    },
    {
      "cell_type": "code",
      "metadata": {
        "id": "Tq0CHt2BA638",
        "colab_type": "code",
        "colab": {}
      },
      "source": [
        "usuarios = []\n",
        "pattern = '\\s([@][\\w_-]+)'\n",
        "\n",
        "for tweet in tweets:\n",
        "  usuario_extraido = re.findall(pattern, tweet)\n",
        "  if (len(usuario_extraido) != 0):\n",
        "    usuarios.append(usuario_extraido)"
      ],
      "execution_count": 4,
      "outputs": []
    },
    {
      "cell_type": "markdown",
      "metadata": {
        "id": "emoL8NtmHmKN",
        "colab_type": "text"
      },
      "source": [
        "Como la lista se compone de sublistas que contienen los nombres de los usuarios, se prepara una lista plana de menciones, para luego utilizar las funciones de NLTK y encontrar los 3 usuarios que se mencionan más frecuentemente"
      ]
    },
    {
      "cell_type": "code",
      "metadata": {
        "id": "hq0KKqbcCVQe",
        "colab_type": "code",
        "colab": {}
      },
      "source": [
        "lista_menciones = []\n",
        "for sublista in usuarios:\n",
        "    for item in sublista:\n",
        "        lista_menciones.append(item)"
      ],
      "execution_count": 5,
      "outputs": []
    },
    {
      "cell_type": "code",
      "metadata": {
        "id": "38SrN8pk-J7G",
        "colab_type": "code",
        "colab": {
          "base_uri": "https://localhost:8080/",
          "height": 34
        },
        "outputId": "8d15ebe2-891a-428b-dfc2-19bd0b55fd17"
      },
      "source": [
        "# Se utiliza la librería nltk para obtener la distribución de frecuencias por usuario\n",
        "# y obtener los 3 usuarios de Twitter más mencionados en el dataset, y su respectiva frecuencia.\n",
        "fdist1 = nltk.FreqDist(lista_menciones)\n",
        "print (fdist1.most_common(3))"
      ],
      "execution_count": 6,
      "outputs": [
        {
          "output_type": "stream",
          "text": [
            "[('@mileycyrus', 604), ('@ddlovato', 502), ('@jonasbrothers', 396)]\n"
          ],
          "name": "stdout"
        }
      ]
    },
    {
      "cell_type": "markdown",
      "metadata": {
        "id": "pIiy-cv5IPBV",
        "colab_type": "text"
      },
      "source": [
        "# Corpus por Usuario\n",
        "\n",
        "A continuación se presenta la metodología para armar los corpus por usuario solicitado, con la siguiente estructura:\n",
        "- Tweet\n",
        "- ID\n",
        "- TimeStamp\n",
        "- Longitud (lenght)\n",
        "\n",
        "### Usuario Popular No. 1\n",
        "Extracción de Datos:"
      ]
    },
    {
      "cell_type": "code",
      "metadata": {
        "id": "ebtxjNn3-3Ci",
        "colab_type": "code",
        "colab": {}
      },
      "source": [
        "datos_usuario_popular1 = []\n",
        "\n",
        "pattern = '\\s(@mileycyrus)+'\n",
        "\n",
        "indice = 0\n",
        "for tweet in tweets:\n",
        "  usuario_extraido = re.findall(pattern, tweet)\n",
        "  if (len(usuario_extraido) != 0):\n",
        "    datos_usuario_popular1.append(datos[indice])\n",
        "  indice+=1\n",
        "datos_usuario_popular1 = np.array(datos_usuario_popular1)"
      ],
      "execution_count": 7,
      "outputs": []
    },
    {
      "cell_type": "markdown",
      "metadata": {
        "id": "S9iSP0_NFb-B",
        "colab_type": "text"
      },
      "source": [
        "Cálculo de la longitud del tweet:"
      ]
    },
    {
      "cell_type": "code",
      "metadata": {
        "id": "KIlbHs5rZN4h",
        "colab_type": "code",
        "colab": {}
      },
      "source": [
        "tweets_usuario_popular1 = datos_usuario_popular1[:,3]\n",
        "\n",
        "largo_tweets_usuarios_popular1 = []\n",
        "\n",
        "for tweet in tweets_usuario_popular1:\n",
        "  largo_tweets_usuarios_popular1.append(len(tweet))"
      ],
      "execution_count": null,
      "outputs": []
    },
    {
      "cell_type": "markdown",
      "metadata": {
        "id": "7gB7rJyIFok5",
        "colab_type": "text"
      },
      "source": [
        "Corpus Usuario Popular No. 1:"
      ]
    },
    {
      "cell_type": "code",
      "metadata": {
        "id": "N2yStgYWN5fz",
        "colab_type": "code",
        "colab": {
          "base_uri": "https://localhost:8080/",
          "height": 252
        },
        "outputId": "63191e49-9ab4-4e41-9da2-fd04cca9621a"
      },
      "source": [
        "corpus_usuario_popular1 = np.stack((datos_usuario_popular1[:,3],datos_usuario_popular1[:,0],datos_usuario_popular1[:,1],largo_tweets_usuarios_popular1),axis=1)\n",
        "corpus_usuario_popular1"
      ],
      "execution_count": 18,
      "outputs": [
        {
          "output_type": "execute_result",
          "data": {
            "text/plain": [
              "array([['@honorsociety iis just 15min away I CANT GO  im sad.  oh well @mileycyrus movieee time. HM movie at 4',\n",
              "        '1553393710', 'Sat Apr 18 14:08:54 PDT 2009', '101'],\n",
              "       ['so happy i go back to school on tuesday not tomorrow. I MUST GET @mileycyrus tickets ',\n",
              "        '1557396741', 'Sun Apr 19 03:51:46 PDT 2009', '85'],\n",
              "       [\"@Tommcfly @ddlovato @mileycyrus .. how do you get a rhythm to a song you write? I've written quite a few songs, but I can't do it  .. ilu\",\n",
              "        '1565189369', 'Mon Apr 20 06:08:12 PDT 2009', '137'],\n",
              "       ...,\n",
              "       ['voted for @ddlovato, @selenagomez, @taylorswift13 and @mileycyrus for Teen Choice Awards today! i think YOU should too! GO DO IT NOW! ',\n",
              "        '2191117926', 'Tue Jun 16 04:33:45 PDT 2009', '134'],\n",
              "       [\"I just finished my @mileycyrus @ladygaga @katyperry music video! WOOHOO!  haha. maybe i'll upload it tomorrow though. x|\",\n",
              "        '2191450480', 'Tue Jun 16 05:18:06 PDT 2009', '120'],\n",
              "       [\"Hey @mileycyrus I voted for you at the teen choise awards.Hope you'll win all of them.Pleaase follow me \",\n",
              "        '2192336083', 'Tue Jun 16 06:52:58 PDT 2009', '104']],\n",
              "      dtype='<U151')"
            ]
          },
          "metadata": {
            "tags": []
          },
          "execution_count": 18
        }
      ]
    },
    {
      "cell_type": "markdown",
      "metadata": {
        "id": "tsrl0-jEGgxI",
        "colab_type": "text"
      },
      "source": [
        "### Usuario Popular No. 2\n",
        "Extracción de Datos:"
      ]
    },
    {
      "cell_type": "code",
      "metadata": {
        "id": "iB8W7Q9AZs7h",
        "colab_type": "code",
        "colab": {}
      },
      "source": [
        "datos_usuario_popular2 = []\n",
        "\n",
        "pattern = '\\s(@ddlovato)+'\n",
        "\n",
        "indice = 0\n",
        "for tweet in tweets:\n",
        "  usuario_extraido = re.findall(pattern, tweet)\n",
        "  if (len(usuario_extraido) != 0):\n",
        "    datos_usuario_popular2.append(datos[indice])\n",
        "  indice+=1\n",
        "datos_usuario_popular2 = np.array(datos_usuario_popular2)"
      ],
      "execution_count": 19,
      "outputs": []
    },
    {
      "cell_type": "markdown",
      "metadata": {
        "id": "yhKtHzGAG4nL",
        "colab_type": "text"
      },
      "source": [
        "Cálculo de la longitud del tweet:"
      ]
    },
    {
      "cell_type": "code",
      "metadata": {
        "id": "_mWu8DoWGwZV",
        "colab_type": "code",
        "colab": {}
      },
      "source": [
        "tweets_usuario_popular2 = datos_usuario_popular2[:,3]\n",
        "\n",
        "largo_tweets_usuarios_popular2 = []\n",
        "\n",
        "for tweet in tweets_usuario_popular2:\n",
        "  largo_tweets_usuarios_popular2.append(len(tweet))"
      ],
      "execution_count": 22,
      "outputs": []
    },
    {
      "cell_type": "markdown",
      "metadata": {
        "id": "rccaPKuXHLC3",
        "colab_type": "text"
      },
      "source": [
        "Corpus Usuario Popular No. 2:"
      ]
    },
    {
      "cell_type": "code",
      "metadata": {
        "id": "Lz395aXxHXw9",
        "colab_type": "code",
        "colab": {
          "base_uri": "https://localhost:8080/",
          "height": 252
        },
        "outputId": "59ef62d4-d91c-4cb2-aa5d-4e71104abd2d"
      },
      "source": [
        "corpus_usuario_popular2 = np.stack((datos_usuario_popular2[:,3],datos_usuario_popular2[:,0],datos_usuario_popular2[:,1],largo_tweets_usuarios_popular2),axis=1)\n",
        "corpus_usuario_popular2"
      ],
      "execution_count": 24,
      "outputs": [
        {
          "output_type": "execute_result",
          "data": {
            "text/plain": [
              "array([[\"@naomilovesyou you're not the only one who thinks @ddlovato should come to belgium \",\n",
              "        '1557291180', 'Sun Apr 19 03:11:10 PDT 2009', '83'],\n",
              "       [\"@kthxx ROFLLL isn't he dead? he might talk back. @ddlovato won't  demi I love you. lolll\",\n",
              "        '1557340733', 'Sun Apr 19 03:30:30 PDT 2009', '88'],\n",
              "       [\"@Tommcfly @ddlovato @mileycyrus .. how do you get a rhythm to a song you write? I've written quite a few songs, but I can't do it  .. ilu\",\n",
              "        '1565189369', 'Mon Apr 20 06:08:12 PDT 2009', '137'],\n",
              "       ...,\n",
              "       ['@JonasBrothers + @ddlovato - were beyond amazing, first ever concert and it was seeing them NEVER forgotton guys you were amazing! ',\n",
              "        '2191337359', 'Tue Jun 16 05:03:44 PDT 2009', '131'],\n",
              "       ['Fell asleep to @chasecoy and woke up to @ddlovato. this is going to be a good day ',\n",
              "        '2191867976', 'Tue Jun 16 06:06:42 PDT 2009', '82'],\n",
              "       ['FINALLY 15 TOMORROW And @MirandaBuzz @jennettemccurdy @DanWarp @ddlovato @selenagomez Voted for you all on the TCA.  ',\n",
              "        '2193009210', 'Tue Jun 16 07:52:11 PDT 2009', '117']],\n",
              "      dtype='<U154')"
            ]
          },
          "metadata": {
            "tags": []
          },
          "execution_count": 24
        }
      ]
    },
    {
      "cell_type": "markdown",
      "metadata": {
        "id": "5rki_GW_IO96",
        "colab_type": "text"
      },
      "source": [
        "### Usuario Popular No. 3\n",
        "Extracción de Datos:"
      ]
    },
    {
      "cell_type": "code",
      "metadata": {
        "id": "0ikoAOCRIQJZ",
        "colab_type": "code",
        "colab": {}
      },
      "source": [
        "datos_usuario_popular3 = []\n",
        "\n",
        "pattern = '\\s(@jonasbrothers)+'\n",
        "\n",
        "indice = 0\n",
        "for tweet in tweets:\n",
        "  usuario_extraido = re.findall(pattern, tweet)\n",
        "  if (len(usuario_extraido) != 0):\n",
        "    datos_usuario_popular3.append(datos[indice])\n",
        "  indice+=1\n",
        "datos_usuario_popular3 = np.array(datos_usuario_popular3)"
      ],
      "execution_count": 25,
      "outputs": []
    },
    {
      "cell_type": "markdown",
      "metadata": {
        "id": "49tMytReIoOH",
        "colab_type": "text"
      },
      "source": [
        "Cálculo de la longitud del tweet:"
      ]
    },
    {
      "cell_type": "code",
      "metadata": {
        "id": "ueasdGGvIo5d",
        "colab_type": "code",
        "colab": {}
      },
      "source": [
        "tweets_usuario_popular3 = datos_usuario_popular3[:,3]\n",
        "\n",
        "largo_tweets_usuarios_popular3 = []\n",
        "\n",
        "for tweet in tweets_usuario_popular3:\n",
        "  largo_tweets_usuarios_popular3.append(len(tweet))"
      ],
      "execution_count": 26,
      "outputs": []
    },
    {
      "cell_type": "markdown",
      "metadata": {
        "id": "WROwhk9QI1wq",
        "colab_type": "text"
      },
      "source": [
        "Corpus Usuario Popular No. 3:"
      ]
    },
    {
      "cell_type": "code",
      "metadata": {
        "id": "SMjXWNXKIz4T",
        "colab_type": "code",
        "colab": {
          "base_uri": "https://localhost:8080/",
          "height": 252
        },
        "outputId": "c42dfe6a-fbfb-4ad6-e9be-1dac155dc8c9"
      },
      "source": [
        "corpus_usuario_popular3 = np.stack((datos_usuario_popular3[:,3],datos_usuario_popular3[:,0],datos_usuario_popular3[:,1],largo_tweets_usuarios_popular3),axis=1)\n",
        "corpus_usuario_popular3"
      ],
      "execution_count": 28,
      "outputs": [
        {
          "output_type": "execute_result",
          "data": {
            "text/plain": [
              "array([['i wish i was in the bahamas to see the @jonasbrothers  i love you guys &lt;3 good luck at your concert!',\n",
              "        '1555750544', 'Sat Apr 18 20:35:19 PDT 2009', '103'],\n",
              "       ['Right now is when i need my @jonasbrothers playlist most . ',\n",
              "        '1564159633', 'Mon Apr 20 02:04:40 PDT 2009', '59'],\n",
              "       ['Hey @jonasbrothers *type your question here* #jonaslive+-+-+-+-+- will cancel the visit to monterrey?   (i wait 4 your answer) XD',\n",
              "        '1676029759', 'Fri May 01 20:55:11 PDT 2009', '129'],\n",
              "       ...,\n",
              "       ['everyone go pick up lines vines and trying times by the @jonasbrothers today! its amazing!  #LVATT',\n",
              "        '2193187795', 'Tue Jun 16 08:06:56 PDT 2009', '98'],\n",
              "       ['everyone who went to @jonasbrothers concert last night I HATE YOU &lt;3 expecially eve! ',\n",
              "        '2193426540', 'Tue Jun 16 08:26:36 PDT 2009', '88'],\n",
              "       ['listening to my new @jonasbrothers cd  one of their best&lt;3 so proud of my boys.',\n",
              "        '2193503874', 'Tue Jun 16 08:32:50 PDT 2009', '82']],\n",
              "      dtype='<U147')"
            ]
          },
          "metadata": {
            "tags": []
          },
          "execution_count": 28
        }
      ]
    }
  ]
}